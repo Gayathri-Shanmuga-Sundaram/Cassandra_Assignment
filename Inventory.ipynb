{
 "cells": [
  {
   "attachments": {},
   "cell_type": "markdown",
   "metadata": {},
   "source": [
    "#### Cassandra Python Programming Assignment \n",
    "##### Gayathri Shanmuga Sundaram - U88629479\n",
    "INSTRUCTIONS:\n",
    "1. Connect to the Cassandra Database\n",
    "2. Create a keyspace called m14\n",
    "3. Create a table in this keyspace that will be used to store inventory information. This will include the fields, SKU (which is shown for stock keeping unit), name (short name for the product), description (longer description of the product), warehouse_num (the warehouse number where the product is stored)\n",
    "4. Populate several rows of data into your inventory table\n",
    "5. Create an index on warehouse_num. \n",
    "6. Search for all products located at a given location (for instance - if you created two rows with location 123, list all products at location 123)"
   ]
  },
  {
   "attachments": {},
   "cell_type": "markdown",
   "metadata": {},
   "source": [
    "Importing Packages"
   ]
  },
  {
   "cell_type": "code",
   "execution_count": 1,
   "metadata": {},
   "outputs": [],
   "source": [
    "import pandas as pd\n",
    "from cassandra.cluster import Cluster"
   ]
  },
  {
   "attachments": {},
   "cell_type": "markdown",
   "metadata": {},
   "source": [
    "Loading Data from csv file"
   ]
  },
  {
   "cell_type": "code",
   "execution_count": 2,
   "metadata": {},
   "outputs": [
    {
     "data": {
      "text/html": [
       "<div>\n",
       "<style scoped>\n",
       "    .dataframe tbody tr th:only-of-type {\n",
       "        vertical-align: middle;\n",
       "    }\n",
       "\n",
       "    .dataframe tbody tr th {\n",
       "        vertical-align: top;\n",
       "    }\n",
       "\n",
       "    .dataframe thead th {\n",
       "        text-align: right;\n",
       "    }\n",
       "</style>\n",
       "<table border=\"1\" class=\"dataframe\">\n",
       "  <thead>\n",
       "    <tr style=\"text-align: right;\">\n",
       "      <th></th>\n",
       "      <th>sku</th>\n",
       "      <th>name</th>\n",
       "      <th>description</th>\n",
       "      <th>warehouse_num</th>\n",
       "    </tr>\n",
       "  </thead>\n",
       "  <tbody>\n",
       "    <tr>\n",
       "      <th>0</th>\n",
       "      <td>'SK4567A'</td>\n",
       "      <td>'AMEROUS'</td>\n",
       "      <td>'15 Inches Magnetic Wooden Chess Set - Beginn...</td>\n",
       "      <td>1433</td>\n",
       "    </tr>\n",
       "    <tr>\n",
       "      <th>1</th>\n",
       "      <td>'PH6788G'</td>\n",
       "      <td>'Taco vs Burrito'</td>\n",
       "      <td>'The Strategic Family Friendly Card Game Crea...</td>\n",
       "      <td>6677</td>\n",
       "    </tr>\n",
       "    <tr>\n",
       "      <th>2</th>\n",
       "      <td>'YU4456Z'</td>\n",
       "      <td>'Wingspan Board Game'</td>\n",
       "      <td>'A Bird-Collection Engine-Building STONEMAIER...</td>\n",
       "      <td>8760</td>\n",
       "    </tr>\n",
       "    <tr>\n",
       "      <th>3</th>\n",
       "      <td>'NZ6789T'</td>\n",
       "      <td>'Skillmatics Card Game'</td>\n",
       "      <td>'Found It Indoor Edition Scavenger Hunt for K...</td>\n",
       "      <td>6677</td>\n",
       "    </tr>\n",
       "    <tr>\n",
       "      <th>4</th>\n",
       "      <td>'GY3452I'</td>\n",
       "      <td>'Azul-Board Game Strategy'</td>\n",
       "      <td>'Board Game Mosaic-Tile Placement Game Family...</td>\n",
       "      <td>1433</td>\n",
       "    </tr>\n",
       "  </tbody>\n",
       "</table>\n",
       "</div>"
      ],
      "text/plain": [
       "         sku                         name  \\\n",
       "0  'SK4567A'                    'AMEROUS'   \n",
       "1  'PH6788G'            'Taco vs Burrito'   \n",
       "2  'YU4456Z'        'Wingspan Board Game'   \n",
       "3  'NZ6789T'      'Skillmatics Card Game'   \n",
       "4  'GY3452I'   'Azul-Board Game Strategy'   \n",
       "\n",
       "                                         description   warehouse_num  \n",
       "0   '15 Inches Magnetic Wooden Chess Set - Beginn...            1433  \n",
       "1   'The Strategic Family Friendly Card Game Crea...            6677  \n",
       "2   'A Bird-Collection Engine-Building STONEMAIER...            8760  \n",
       "3   'Found It Indoor Edition Scavenger Hunt for K...            6677  \n",
       "4   'Board Game Mosaic-Tile Placement Game Family...            1433  "
      ]
     },
     "execution_count": 2,
     "metadata": {},
     "output_type": "execute_result"
    }
   ],
   "source": [
    "df = pd.read_csv('./toystore_inventory.csv')\n",
    "df"
   ]
  },
  {
   "attachments": {},
   "cell_type": "markdown",
   "metadata": {},
   "source": [
    "Create a session connection to Cassandra cluster"
   ]
  },
  {
   "cell_type": "code",
   "execution_count": 3,
   "metadata": {},
   "outputs": [],
   "source": [
    "clstr = Cluster()\n",
    "session = clstr.connect()"
   ]
  },
  {
   "attachments": {},
   "cell_type": "markdown",
   "metadata": {},
   "source": [
    "Create keyspace"
   ]
  },
  {
   "cell_type": "code",
   "execution_count": 4,
   "metadata": {},
   "outputs": [
    {
     "data": {
      "text/plain": [
       "<cassandra.cluster.ResultSet at 0x7fca71f39270>"
      ]
     },
     "execution_count": 4,
     "metadata": {},
     "output_type": "execute_result"
    }
   ],
   "source": [
    "session.execute(\"CREATE KEYSPACE IF NOT EXISTS m14 WITH REPLICATION = {'class':'SimpleStrategy', 'replication_factor':1}\")"
   ]
  },
  {
   "attachments": {},
   "cell_type": "markdown",
   "metadata": {},
   "source": [
    "Veryfing keyspace creation"
   ]
  },
  {
   "cell_type": "code",
   "execution_count": 5,
   "metadata": {},
   "outputs": [],
   "source": [
    "rows = session.execute(\"desc keyspaces\")"
   ]
  },
  {
   "cell_type": "code",
   "execution_count": 6,
   "metadata": {},
   "outputs": [
    {
     "name": "stdout",
     "output_type": "stream",
     "text": [
      "m14\n",
      "system\n",
      "system_auth\n",
      "system_distributed\n",
      "system_schema\n",
      "system_traces\n",
      "system_views\n",
      "system_virtual_schema\n",
      "w04\n",
      "w04python\n"
     ]
    }
   ],
   "source": [
    "rows = session.execute(\"desc keyspaces\")\n",
    "for row in rows:\n",
    "    print(f\"{row[0]}\")"
   ]
  },
  {
   "attachments": {},
   "cell_type": "markdown",
   "metadata": {},
   "source": [
    "Create table"
   ]
  },
  {
   "cell_type": "code",
   "execution_count": 7,
   "metadata": {},
   "outputs": [
    {
     "data": {
      "text/plain": [
       "<cassandra.cluster.ResultSet at 0x7fca734ce650>"
      ]
     },
     "execution_count": 7,
     "metadata": {},
     "output_type": "execute_result"
    }
   ],
   "source": [
    "session.execute(\"\"\"\n",
    "CREATE TABLE IF NOT EXISTS m14.toystore ( \n",
    "    sku TEXT, \n",
    "    name TEXT, \n",
    "    description TEXT,  \n",
    "    warehouse_num INT, \n",
    "    PRIMARY KEY(sku)\n",
    ");\n",
    "\"\"\")"
   ]
  },
  {
   "attachments": {},
   "cell_type": "markdown",
   "metadata": {},
   "source": [
    "Inserting the Row values"
   ]
  },
  {
   "cell_type": "code",
   "execution_count": 8,
   "metadata": {},
   "outputs": [],
   "source": [
    "for index, row in df.iterrows():\n",
    "    session.execute(f\"\"\"\n",
    "        INSERT INTO m14.toystore (sku, name, description, warehouse_num)     \n",
    "        VALUES ({row[0].strip()}, {row[1].strip()}, {row[2].strip()}, {row[3]});\n",
    "        \"\"\"\n",
    "       )"
   ]
  },
  {
   "attachments": {},
   "cell_type": "markdown",
   "metadata": {},
   "source": [
    "Create INDEX"
   ]
  },
  {
   "cell_type": "code",
   "execution_count": 9,
   "metadata": {},
   "outputs": [
    {
     "data": {
      "text/plain": [
       "<cassandra.cluster.ResultSet at 0x7fca71f38be0>"
      ]
     },
     "execution_count": 9,
     "metadata": {},
     "output_type": "execute_result"
    }
   ],
   "source": [
    "session.execute (\"CREATE INDEX ON m14.toystore(warehouse_num)\")"
   ]
  },
  {
   "attachments": {},
   "cell_type": "markdown",
   "metadata": {},
   "source": [
    "Run the Query"
   ]
  },
  {
   "cell_type": "code",
   "execution_count": 10,
   "metadata": {},
   "outputs": [
    {
     "name": "stdout",
     "output_type": "stream",
     "text": [
      "sku=PH6788G, name=Taco vs Burrito, description=The Strategic Family Friendly Card Game Created by a 7 Year Old, warehouse_num=6677,\n",
      "sku=NZ6789T, name=Skillmatics Card Game, description=Found It Indoor Edition Scavenger Hunt for Kids Fun Family Game Ages 4 to 7, warehouse_num=6677,\n"
     ]
    }
   ],
   "source": [
    "rows = session.execute(\"select (sku, name, description, warehouse_num) from m14.toystore where warehouse_num = 6677\")\n",
    "for row in rows:\n",
    "    print(f\"sku={row[0][0]}, name={row[0][1]}, description={row[0][2]}, warehouse_num={row[0][3]},\")"
   ]
  }
 ],
 "metadata": {
  "kernelspec": {
   "display_name": "base",
   "language": "python",
   "name": "python3"
  },
  "language_info": {
   "codemirror_mode": {
    "name": "ipython",
    "version": 3
   },
   "file_extension": ".py",
   "mimetype": "text/x-python",
   "name": "python",
   "nbconvert_exporter": "python",
   "pygments_lexer": "ipython3",
   "version": "3.10.8"
  },
  "orig_nbformat": 4
 },
 "nbformat": 4,
 "nbformat_minor": 2
}
